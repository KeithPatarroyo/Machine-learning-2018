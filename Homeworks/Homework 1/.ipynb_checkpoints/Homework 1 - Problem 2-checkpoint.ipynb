{
 "cells": [
  {
   "cell_type": "markdown",
   "metadata": {},
   "source": [
    "# Solution Problem 2"
   ]
  },
  {
   "cell_type": "markdown",
   "metadata": {},
   "source": [
    "### Problem :  \n",
    "Let $D = \\{d_1,... , d_n\\}$ be a set of documents and $T = \\{t_1, . . . , t_m\\}$ a set of terms (words). Let $T D = (T D_{i,j} )_{i=1...m,j=1...n}$ be a matrix such that $T D_{i,j}$ corresponds to the number of times the term $t_i$ appears in the document $d_j$ . Also, let $l_i$ be the length, number of characters, of term $t_i$ , and let $L = (l_1, . . . , l_m)$ be a column vector. Finally, assume a process where a document $d_j$ is randomly chosen with uniform probability and then a term $t_i$, present in $d_j$ ,is randomly chosen with a probability proportional to the frequency of $t_i$ in $d_j$.\n",
    "\n",
    "For all the following expressions you must provide:\n",
    "\n",
    "* a mathematical expression to calculate it that includes $T D, L$, constants (scalars, vectors or matrices) and linear algebra operations\n",
    "* a expression in Numpy (http://www.scipy.org) that, when evaluated, generates the requested matrix, vector or scalar (the expression must be a linear algebra expression that does not involve control structures such as for, while etc.)\n",
    "* the result of evaluating the expression, assuming:\n",
    "\n",
    "$$TD = \\begin{bmatrix}\n",
    "2 & 3 & 0 &3  &7 \\\\ \n",
    "0 & 5 & 5 & 0 &3  \\\\ \n",
    "5 & 0 & 7 & 3 & 3 \\\\ \n",
    "3 & 1 & 0 & 9 & 9 \\\\ \n",
    "0 & 0 & 7 & 1 & 3 \\\\\n",
    "6 & 9 & 4 & 6 & 0 \\\\\n",
    "\\end{bmatrix},\\qquad L = \\begin{bmatrix}\n",
    "5\\\\ \n",
    "2\\\\ \n",
    "3\\\\ \n",
    "6\\\\ \n",
    "4\\\\ \n",
    "3\n",
    "\\end{bmatrix}$$\n",
    "\n",
    "\n",
    "(a) Matrix $P(T, D)$ (each position of the matrix, $P(T, D)_{i,j}$ , corresponds to the joint probability\n",
    "of term $t_i$ and document $d_j$ , $P(t_i, d_j )$)\n",
    "\n",
    "(b) Matrix $P(T|D)$\n",
    "\n",
    "(c) Matrix $P(D|T)$\n",
    "\n",
    "(d) Vector $P(D)$\n",
    "\n",
    "(e) Vector $P(T)$\n"
   ]
  },
  {
   "cell_type": "markdown",
   "metadata": {},
   "source": [
    "## Solution:\n",
    "\n",
    "(a)"
   ]
  },
  {
   "cell_type": "code",
   "execution_count": null,
   "metadata": {
    "collapsed": true
   },
   "outputs": [],
   "source": []
  }
 ],
 "metadata": {
  "kernelspec": {
   "display_name": "Python 3",
   "language": "python",
   "name": "python3"
  },
  "language_info": {
   "codemirror_mode": {
    "name": "ipython",
    "version": 3
   },
   "file_extension": ".py",
   "mimetype": "text/x-python",
   "name": "python",
   "nbconvert_exporter": "python",
   "pygments_lexer": "ipython3",
   "version": "3.6.3"
  }
 },
 "nbformat": 4,
 "nbformat_minor": 2
}
